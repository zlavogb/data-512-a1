{
 "cells": [
  {
   "cell_type": "markdown",
   "metadata": {},
   "source": [
    "# English Wikipedia page views 2007 - 2019\n",
    "### [University of Washington, DATA 512 Autumn 2019, Assignment 1](https://wiki.communitydata.science/Human_Centered_Data_Science_(Fall_2019)/Assignments#A1:_Data_curation)\n",
    "### Bianca Zlavog"
   ]
  },
  {
   "cell_type": "markdown",
   "metadata": {},
   "source": [
    "In this first assignment, we acquire English Wikipedia page view data using the Wikimedia REST API. There are two primary data sources: the Legacy Page Count API and the Page Views API. We then process the data and prepare it for analysis. We create a figure displaying the trends in page views across time from the two API, separated by different access types (desktop access, mobile access, and total across all access types). Let's begin!"
   ]
  },
  {
   "cell_type": "markdown",
   "metadata": {},
   "source": [
    "First, we will import all the necessary packages we will work with."
   ]
  },
  {
   "cell_type": "code",
   "execution_count": 1,
   "metadata": {},
   "outputs": [],
   "source": [
    "import json\n",
    "import requests\n",
    "import pandas as pd\n",
    "from pandas.io.json import json_normalize\n",
    "import matplotlib.pyplot as plt\n",
    "import numpy as np\n",
    "from pandas.plotting import register_matplotlib_converters\n",
    "register_matplotlib_converters()"
   ]
  },
  {
   "cell_type": "markdown",
   "metadata": {},
   "source": [
    "## Part 1: Data acquisition"
   ]
  },
  {
   "cell_type": "markdown",
   "metadata": {},
   "source": [
    "We gather data from the [Wikimedia REST API](https://wikimedia.org/api/rest_v1/), Wikimedia Foundation, 2018. CC-BY-SA 3.0. "
   ]
  },
  {
   "cell_type": "markdown",
   "metadata": {},
   "source": [
    "From the enpoint pages for the [Legacy Page Count API](https://wikimedia.org/api/rest_v1/#/Pagecounts_data_(legacy)/get_metrics_legacy_pagecounts_aggregate_project_access_site_granularity_start_end) and\n",
    "[Page Views API](https://wikimedia.org/api/rest_v1/#/Pageviews_data/get_metrics_pageviews_aggregate_project_access_agent_granularity_start_end), we obtain the format of the endpoint calls which we will need to access data from the API:"
   ]
  },
  {
   "cell_type": "code",
   "execution_count": 2,
   "metadata": {},
   "outputs": [],
   "source": [
    "endpoint_legacy = 'https://wikimedia.org/api/rest_v1/metrics/legacy/pagecounts/aggregate/{project}/{access-site}/{granularity}/{start}/{end}'\n",
    "endpoint_pageviews = 'https://wikimedia.org/api/rest_v1/metrics/pageviews/aggregate/{project}/{access}/{agent}/{granularity}/{start}/{end}'"
   ]
  },
  {
   "cell_type": "markdown",
   "metadata": {},
   "source": [
    "From the documentation pages for the [Legacy Page Count API](https://wikitech.wikimedia.org/wiki/Analytics/AQS/Legacy_Pagecounts) and [Page Views API](https://wikitech.wikimedia.org/wiki/Analytics/AQS/Pageviews), we obtain the information needed to pass to the endpoint calls. These parameters are:\n",
    "* `project`: This contains the website URL we want to analyze. In our case, this is the URL of the English Wikipedia site.\n",
    "* `access-site` (legacy API) or `access` (current API): This disaggregates the website access type we want to gather data on, whether it is mobile, desktop, or all types. Note the slight differences in access type names across the two API. Also note that the current API allows further separation of mobile access views by mobile web and mobile app.\n",
    "* `agent` (current API only): This allows us to filter out web spiders in the pageviews to get only organic users. The legacy API does not have this option, and the pagecount data will be inclusive of web spiders, producing an over-estimation of organic web traffic to the site.\n",
    "* `granularity`: Refers to the level of aggregation across time periods in the data. We are only interested in monthly data for this project.\n",
    "* `start` and `end`: Contains the starting and ending dates of data to access. Note that the start date is inclusive, while the end date is exclusive, so for end date we need to use the first day of the month following the final month of data we want. The legacy API contains data from December 2007 to July 2016, while the current API contains data from July 2015 to last month (September 2019).\n"
   ]
  },
  {
   "cell_type": "code",
   "execution_count": 3,
   "metadata": {},
   "outputs": [],
   "source": [
    "# Parameters for getting monthly legacy pagecount data, by desktop, mobile, and all sites\n",
    "params_legacy_desktop = {\"project\" : \"en.wikipedia.org\",\n",
    "                 \"access-site\" : \"desktop-site\",\n",
    "                 \"granularity\" : \"monthly\",\n",
    "                 \"start\" : \"2007120100\",\n",
    "                 \"end\" : \"2016080100\"\n",
    "                    }\n",
    "params_legacy_mobile = {\"project\" : \"en.wikipedia.org\",\n",
    "                 \"access-site\" : \"mobile-site\",\n",
    "                 \"granularity\" : \"monthly\",\n",
    "                 \"start\" : \"2007120100\",\n",
    "                 \"end\" : \"2016080100\"\n",
    "                    }\n",
    "params_legacy_all = {\"project\" : \"en.wikipedia.org\",\n",
    "                 \"access-site\" : \"all-sites\",\n",
    "                 \"granularity\" : \"monthly\",\n",
    "                 \"start\" : \"2007120100\",\n",
    "                 \"end\" : \"2016080100\"\n",
    "                    }\n",
    "\n",
    "# Parameters for getting monthly current pageview data, by desktop, mobile-web, mobile-app, and all sites\n",
    "params_pageviews_desktop = {\"project\" : \"en.wikipedia.org\",\n",
    "                    \"access\" : \"desktop\",\n",
    "                    \"agent\" : \"user\",\n",
    "                    \"granularity\" : \"monthly\",\n",
    "                    \"start\" : \"2015070100\",\n",
    "                    \"end\" : '2019100100'\n",
    "                        }\n",
    "params_pageviews_mobileweb = {\"project\" : \"en.wikipedia.org\",\n",
    "                    \"access\" : \"mobile-web\",\n",
    "                    \"agent\" : \"user\",\n",
    "                    \"granularity\" : \"monthly\",\n",
    "                    \"start\" : \"2015070100\",\n",
    "                    \"end\" : '2019100100'\n",
    "                        }\n",
    "params_pageviews_mobileapp = {\"project\" : \"en.wikipedia.org\",\n",
    "                    \"access\" : \"mobile-app\",\n",
    "                    \"agent\" : \"user\",\n",
    "                    \"granularity\" : \"monthly\",\n",
    "                    \"start\" : \"2015070100\",\n",
    "                    \"end\" : '2019100100'\n",
    "                        }\n",
    "params_pageviews_all = {\"project\" : \"en.wikipedia.org\",\n",
    "                    \"access\" : \"all-access\",\n",
    "                    \"agent\" : \"user\",\n",
    "                    \"granularity\" : \"monthly\",\n",
    "                    \"start\" : \"2001010100\",\n",
    "                    \"end\" : '2019100100'\n",
    "                        }\n",
    "\n",
    "# Pass user information\n",
    "headers = {\n",
    "    'User-Agent': 'https://github.com/zlavogb',\n",
    "    'From': 'zlavogb@uw.edu'\n",
    "}"
   ]
  },
  {
   "cell_type": "markdown",
   "metadata": {},
   "source": [
    "Now we define a function to make the API call, and proceed to read in all the data from the calls, then save out the resulting seven raw JSON files."
   ]
  },
  {
   "cell_type": "code",
   "execution_count": 4,
   "metadata": {},
   "outputs": [],
   "source": [
    "# Define a function to make the API call\n",
    "def api_call(endpoint,parameters):\n",
    "    call = requests.get(endpoint.format(**parameters), headers=headers)\n",
    "    response = call.json()\n",
    "    \n",
    "    return response"
   ]
  },
  {
   "cell_type": "code",
   "execution_count": 5,
   "metadata": {},
   "outputs": [],
   "source": [
    "# Read in data from API calls\n",
    "monthly_pagecounts_desktop = api_call(endpoint_legacy, params_legacy_desktop)\n",
    "monthly_pagecounts_mobile = api_call(endpoint_legacy, params_legacy_mobile)\n",
    "monthly_pagecounts_all = api_call(endpoint_legacy, params_legacy_all)\n",
    "\n",
    "monthly_pageviews_desktop = api_call(endpoint_pageviews, params_pageviews_desktop)\n",
    "monthly_pageviews_mobileweb = api_call(endpoint_pageviews, params_pageviews_mobileweb)\n",
    "monthly_pageviews_mobileapp = api_call(endpoint_pageviews, params_pageviews_mobileapp)\n",
    "monthly_pageviews_all = api_call(endpoint_pageviews, params_pageviews_all)"
   ]
  },
  {
   "cell_type": "code",
   "execution_count": 6,
   "metadata": {},
   "outputs": [],
   "source": [
    "# Save out files\n",
    "with open('../data_raw/pagecounts_desktop-site_200712-201909.json', 'w') as outfile: \n",
    "    json.dump(monthly_pagecounts_desktop, outfile)  \n",
    "with open('../data_raw/pagecounts_mobile-site_200712-201909.json', 'w') as outfile: \n",
    "    json.dump(monthly_pagecounts_mobile, outfile)  \n",
    "with open('../data_raw/pagecounts_all-sites_200712-201909.json', 'w') as outfile: \n",
    "    json.dump(monthly_pagecounts_all, outfile)\n",
    "    \n",
    "with open('../data_raw/pageviews_desktop_201507-201909.json', 'w') as outfile: \n",
    "    json.dump(monthly_pageviews_desktop, outfile)  \n",
    "with open('../data_raw/pageviews_mobile-web_201507-201909.json', 'w') as outfile: \n",
    "    json.dump(monthly_pageviews_mobileweb, outfile)  \n",
    "with open('../data_raw/pageviews_mobile-app_201507-201909.json', 'w') as outfile: \n",
    "    json.dump(monthly_pageviews_mobileapp, outfile)  \n",
    "with open('../data_raw/pageviews_all-access_201507-201909.json', 'w') as outfile: \n",
    "    json.dump(monthly_pageviews_all, outfile)     "
   ]
  },
  {
   "cell_type": "markdown",
   "metadata": {},
   "source": [
    "## Part 2: Data processing"
   ]
  },
  {
   "cell_type": "markdown",
   "metadata": {},
   "source": [
    "In this section, we clean the data in order to prepare it for analysis."
   ]
  },
  {
   "cell_type": "markdown",
   "metadata": {},
   "source": [
    "We first want to convert the raw JSON data from the API into Pandas DataFrames to make it easier to work with. First, we need to check the structure of the data:"
   ]
  },
  {
   "cell_type": "code",
   "execution_count": 7,
   "metadata": {},
   "outputs": [
    {
     "name": "stdout",
     "output_type": "stream",
     "text": [
      "{'items': [{'project': 'en.wikipedia', 'access-site': 'desktop-site', 'granularity': 'monthly', 'timestamp': '2007120100', 'count': 2998331524}, {'project': 'en.wikipedia', 'access-site': 'desktop-site', 'granularity': 'monthly', 'timestamp': '2008010100', 'count': 4930902570}, {'project': 'en.wikipedia', 'access-site': 'desktop-site', 'granularity': 'monthly', 'timestamp': '2008020100', 'count': 4818393763}, {'project': 'en.wikipedia', 'access-site': 'desktop-site', 'granularity': 'monthly', 'timestamp': '2008030100', 'count': 4955405809}, {'project': 'en.wikipedia', 'access-site': 'desktop-site', 'granularity': 'monthly', 'timestamp': '2008040100', 'count': 5159162183}, {'project': 'en.wikipedia', 'access-site': 'desktop-site', 'granularity': 'monthly', 'timestamp': '2008050100', 'count': 5584691092}, {'project': 'en.wikipedia', 'access-site': 'desktop-site', 'granularity': 'monthly', 'timestamp': '2008060100', 'count': 5712104279}, {'project': 'en.wikipedia', 'access-site': 'desktop-site', 'granularity': 'monthly', 'timestamp': '2008070100', 'count': 5306302874}, {'project': 'en.wikipedia', 'access-site': 'desktop-site', 'granularity': 'monthly', 'timestamp': '2008080100', 'count': 5140155519}, {'project': 'en.wikipedia', 'access-site': 'desktop-site', 'granularity': 'monthly', 'timestamp': '2008090100', 'count': 5479533823}, {'project': 'en.wikipedia', 'access-site': 'desktop-site', 'granularity': 'monthly', 'timestamp': '2008100100', 'count': 5679440782}, {'project': 'en.wikipedia', 'access-site': 'desktop-site', 'granularity': 'monthly', 'timestamp': '2008110100', 'count': 5415832071}, {'project': 'en.wikipedia', 'access-site': 'desktop-site', 'granularity': 'monthly', 'timestamp': '2008120100', 'count': 5211708451}, {'project': 'en.wikipedia', 'access-site': 'desktop-site', 'granularity': 'monthly', 'timestamp': '2009010100', 'count': 5802681551}, {'project': 'en.wikipedia', 'access-site': 'desktop-site', 'granularity': 'monthly', 'timestamp': '2009020100', 'count': 5547320860}, {'project': 'en.wikipedia', 'access-site': 'desktop-site', 'granularity': 'monthly', 'timestamp': '2009030100', 'count': 6295159057}, {'project': 'en.wikipedia', 'access-site': 'desktop-site', 'granularity': 'monthly', 'timestamp': '2009040100', 'count': 5988817321}, {'project': 'en.wikipedia', 'access-site': 'desktop-site', 'granularity': 'monthly', 'timestamp': '2009050100', 'count': 6267516733}, {'project': 'en.wikipedia', 'access-site': 'desktop-site', 'granularity': 'monthly', 'timestamp': '2009060100', 'count': 5818924182}, {'project': 'en.wikipedia', 'access-site': 'desktop-site', 'granularity': 'monthly', 'timestamp': '2009070100', 'count': 5801646978}, {'project': 'en.wikipedia', 'access-site': 'desktop-site', 'granularity': 'monthly', 'timestamp': '2009080100', 'count': 5790850384}, {'project': 'en.wikipedia', 'access-site': 'desktop-site', 'granularity': 'monthly', 'timestamp': '2009090100', 'count': 4057515768}, {'project': 'en.wikipedia', 'access-site': 'desktop-site', 'granularity': 'monthly', 'timestamp': '2009100100', 'count': 6016107147}, {'project': 'en.wikipedia', 'access-site': 'desktop-site', 'granularity': 'monthly', 'timestamp': '2009110100', 'count': 5768486910}, {'project': 'en.wikipedia', 'access-site': 'desktop-site', 'granularity': 'monthly', 'timestamp': '2009120100', 'count': 5426505977}, {'project': 'en.wikipedia', 'access-site': 'desktop-site', 'granularity': 'monthly', 'timestamp': '2010010100', 'count': 5703465285}, {'project': 'en.wikipedia', 'access-site': 'desktop-site', 'granularity': 'monthly', 'timestamp': '2010020100', 'count': 5762451418}, {'project': 'en.wikipedia', 'access-site': 'desktop-site', 'granularity': 'monthly', 'timestamp': '2010030100', 'count': 6661347946}, {'project': 'en.wikipedia', 'access-site': 'desktop-site', 'granularity': 'monthly', 'timestamp': '2010040100', 'count': 6618552152}, {'project': 'en.wikipedia', 'access-site': 'desktop-site', 'granularity': 'monthly', 'timestamp': '2010050100', 'count': 6410578775}, {'project': 'en.wikipedia', 'access-site': 'desktop-site', 'granularity': 'monthly', 'timestamp': '2010060100', 'count': 4898035014}, {'project': 'en.wikipedia', 'access-site': 'desktop-site', 'granularity': 'monthly', 'timestamp': '2010070100', 'count': 5296177638}, {'project': 'en.wikipedia', 'access-site': 'desktop-site', 'granularity': 'monthly', 'timestamp': '2010080100', 'count': 7381346660}, {'project': 'en.wikipedia', 'access-site': 'desktop-site', 'granularity': 'monthly', 'timestamp': '2010090100', 'count': 7546488744}, {'project': 'en.wikipedia', 'access-site': 'desktop-site', 'granularity': 'monthly', 'timestamp': '2010100100', 'count': 10172844562}, {'project': 'en.wikipedia', 'access-site': 'desktop-site', 'granularity': 'monthly', 'timestamp': '2010110100', 'count': 6948678354}, {'project': 'en.wikipedia', 'access-site': 'desktop-site', 'granularity': 'monthly', 'timestamp': '2010120100', 'count': 7001952100}, {'project': 'en.wikipedia', 'access-site': 'desktop-site', 'granularity': 'monthly', 'timestamp': '2011010100', 'count': 7568511227}, {'project': 'en.wikipedia', 'access-site': 'desktop-site', 'granularity': 'monthly', 'timestamp': '2011020100', 'count': 6906248849}, {'project': 'en.wikipedia', 'access-site': 'desktop-site', 'granularity': 'monthly', 'timestamp': '2011030100', 'count': 7326545928}, {'project': 'en.wikipedia', 'access-site': 'desktop-site', 'granularity': 'monthly', 'timestamp': '2011040100', 'count': 6835492088}, {'project': 'en.wikipedia', 'access-site': 'desktop-site', 'granularity': 'monthly', 'timestamp': '2011050100', 'count': 7009799378}, {'project': 'en.wikipedia', 'access-site': 'desktop-site', 'granularity': 'monthly', 'timestamp': '2011060100', 'count': 6536675534}, {'project': 'en.wikipedia', 'access-site': 'desktop-site', 'granularity': 'monthly', 'timestamp': '2011070100', 'count': 6571730164}, {'project': 'en.wikipedia', 'access-site': 'desktop-site', 'granularity': 'monthly', 'timestamp': '2011080100', 'count': 6514500361}, {'project': 'en.wikipedia', 'access-site': 'desktop-site', 'granularity': 'monthly', 'timestamp': '2011090100', 'count': 5837738935}, {'project': 'en.wikipedia', 'access-site': 'desktop-site', 'granularity': 'monthly', 'timestamp': '2011100100', 'count': 6974424665}, {'project': 'en.wikipedia', 'access-site': 'desktop-site', 'granularity': 'monthly', 'timestamp': '2011110100', 'count': 7507641641}, {'project': 'en.wikipedia', 'access-site': 'desktop-site', 'granularity': 'monthly', 'timestamp': '2011120100', 'count': 6396357939}, {'project': 'en.wikipedia', 'access-site': 'desktop-site', 'granularity': 'monthly', 'timestamp': '2012010100', 'count': 7808477339}, {'project': 'en.wikipedia', 'access-site': 'desktop-site', 'granularity': 'monthly', 'timestamp': '2012020100', 'count': 7530127141}, {'project': 'en.wikipedia', 'access-site': 'desktop-site', 'granularity': 'monthly', 'timestamp': '2012030100', 'count': 7358543625}, {'project': 'en.wikipedia', 'access-site': 'desktop-site', 'granularity': 'monthly', 'timestamp': '2012040100', 'count': 7220029422}, {'project': 'en.wikipedia', 'access-site': 'desktop-site', 'granularity': 'monthly', 'timestamp': '2012050100', 'count': 7784479302}, {'project': 'en.wikipedia', 'access-site': 'desktop-site', 'granularity': 'monthly', 'timestamp': '2012060100', 'count': 7524265988}, {'project': 'en.wikipedia', 'access-site': 'desktop-site', 'granularity': 'monthly', 'timestamp': '2012070100', 'count': 7819376527}, {'project': 'en.wikipedia', 'access-site': 'desktop-site', 'granularity': 'monthly', 'timestamp': '2012080100', 'count': 7885641059}, {'project': 'en.wikipedia', 'access-site': 'desktop-site', 'granularity': 'monthly', 'timestamp': '2012090100', 'count': 7913689733}, {'project': 'en.wikipedia', 'access-site': 'desktop-site', 'granularity': 'monthly', 'timestamp': '2012100100', 'count': 8379960050}, {'project': 'en.wikipedia', 'access-site': 'desktop-site', 'granularity': 'monthly', 'timestamp': '2012110100', 'count': 8219987195}, {'project': 'en.wikipedia', 'access-site': 'desktop-site', 'granularity': 'monthly', 'timestamp': '2012120100', 'count': 8033826900}, {'project': 'en.wikipedia', 'access-site': 'desktop-site', 'granularity': 'monthly', 'timestamp': '2013010100', 'count': 9126210673}, {'project': 'en.wikipedia', 'access-site': 'desktop-site', 'granularity': 'monthly', 'timestamp': '2013020100', 'count': 8100597857}, {'project': 'en.wikipedia', 'access-site': 'desktop-site', 'granularity': 'monthly', 'timestamp': '2013030100', 'count': 8701419671}, {'project': 'en.wikipedia', 'access-site': 'desktop-site', 'granularity': 'monthly', 'timestamp': '2013040100', 'count': 8049296729}, {'project': 'en.wikipedia', 'access-site': 'desktop-site', 'granularity': 'monthly', 'timestamp': '2013050100', 'count': 8089099883}, {'project': 'en.wikipedia', 'access-site': 'desktop-site', 'granularity': 'monthly', 'timestamp': '2013060100', 'count': 7759959725}, {'project': 'en.wikipedia', 'access-site': 'desktop-site', 'granularity': 'monthly', 'timestamp': '2013070100', 'count': 8237301982}, {'project': 'en.wikipedia', 'access-site': 'desktop-site', 'granularity': 'monthly', 'timestamp': '2013080100', 'count': 9306122925}, {'project': 'en.wikipedia', 'access-site': 'desktop-site', 'granularity': 'monthly', 'timestamp': '2013090100', 'count': 9985326806}, {'project': 'en.wikipedia', 'access-site': 'desktop-site', 'granularity': 'monthly', 'timestamp': '2013100100', 'count': 10775158269}, {'project': 'en.wikipedia', 'access-site': 'desktop-site', 'granularity': 'monthly', 'timestamp': '2013110100', 'count': 10414877805}, {'project': 'en.wikipedia', 'access-site': 'desktop-site', 'granularity': 'monthly', 'timestamp': '2013120100', 'count': 7102459747}, {'project': 'en.wikipedia', 'access-site': 'desktop-site', 'granularity': 'monthly', 'timestamp': '2014010100', 'count': 7026531269}, {'project': 'en.wikipedia', 'access-site': 'desktop-site', 'granularity': 'monthly', 'timestamp': '2014020100', 'count': 6718243109}, {'project': 'en.wikipedia', 'access-site': 'desktop-site', 'granularity': 'monthly', 'timestamp': '2014030100', 'count': 7464128273}, {'project': 'en.wikipedia', 'access-site': 'desktop-site', 'granularity': 'monthly', 'timestamp': '2014040100', 'count': 7216245221}, {'project': 'en.wikipedia', 'access-site': 'desktop-site', 'granularity': 'monthly', 'timestamp': '2014050100', 'count': 7543277646}, {'project': 'en.wikipedia', 'access-site': 'desktop-site', 'granularity': 'monthly', 'timestamp': '2014060100', 'count': 6577352648}, {'project': 'en.wikipedia', 'access-site': 'desktop-site', 'granularity': 'monthly', 'timestamp': '2014070100', 'count': 6761059566}, {'project': 'en.wikipedia', 'access-site': 'desktop-site', 'granularity': 'monthly', 'timestamp': '2014080100', 'count': 6687313714}, {'project': 'en.wikipedia', 'access-site': 'desktop-site', 'granularity': 'monthly', 'timestamp': '2014090100', 'count': 7564600999}, {'project': 'en.wikipedia', 'access-site': 'desktop-site', 'granularity': 'monthly', 'timestamp': '2014100100', 'count': 6577533128}, {'project': 'en.wikipedia', 'access-site': 'desktop-site', 'granularity': 'monthly', 'timestamp': '2014110100', 'count': 6153537606}, {'project': 'en.wikipedia', 'access-site': 'desktop-site', 'granularity': 'monthly', 'timestamp': '2014120100', 'count': 5830332248}, {'project': 'en.wikipedia', 'access-site': 'desktop-site', 'granularity': 'monthly', 'timestamp': '2015010100', 'count': 6103767055}, {'project': 'en.wikipedia', 'access-site': 'desktop-site', 'granularity': 'monthly', 'timestamp': '2015020100', 'count': 5602710439}, {'project': 'en.wikipedia', 'access-site': 'desktop-site', 'granularity': 'monthly', 'timestamp': '2015030100', 'count': 6346602713}, {'project': 'en.wikipedia', 'access-site': 'desktop-site', 'granularity': 'monthly', 'timestamp': '2015040100', 'count': 6198945657}, {'project': 'en.wikipedia', 'access-site': 'desktop-site', 'granularity': 'monthly', 'timestamp': '2015050100', 'count': 6323801814}, {'project': 'en.wikipedia', 'access-site': 'desktop-site', 'granularity': 'monthly', 'timestamp': '2015060100', 'count': 5165413640}, {'project': 'en.wikipedia', 'access-site': 'desktop-site', 'granularity': 'monthly', 'timestamp': '2015070100', 'count': 5229226022}, {'project': 'en.wikipedia', 'access-site': 'desktop-site', 'granularity': 'monthly', 'timestamp': '2015080100', 'count': 5035534449}, {'project': 'en.wikipedia', 'access-site': 'desktop-site', 'granularity': 'monthly', 'timestamp': '2015090100', 'count': 5409631355}, {'project': 'en.wikipedia', 'access-site': 'desktop-site', 'granularity': 'monthly', 'timestamp': '2015100100', 'count': 5535704471}, {'project': 'en.wikipedia', 'access-site': 'desktop-site', 'granularity': 'monthly', 'timestamp': '2015110100', 'count': 5296956116}, {'project': 'en.wikipedia', 'access-site': 'desktop-site', 'granularity': 'monthly', 'timestamp': '2015120100', 'count': 5264446173}, {'project': 'en.wikipedia', 'access-site': 'desktop-site', 'granularity': 'monthly', 'timestamp': '2016010100', 'count': 5569632502}, {'project': 'en.wikipedia', 'access-site': 'desktop-site', 'granularity': 'monthly', 'timestamp': '2016020100', 'count': 5347709361}, {'project': 'en.wikipedia', 'access-site': 'desktop-site', 'granularity': 'monthly', 'timestamp': '2016030100', 'count': 5407676056}, {'project': 'en.wikipedia', 'access-site': 'desktop-site', 'granularity': 'monthly', 'timestamp': '2016040100', 'count': 5572235399}, {'project': 'en.wikipedia', 'access-site': 'desktop-site', 'granularity': 'monthly', 'timestamp': '2016050100', 'count': 5330532334}, {'project': 'en.wikipedia', 'access-site': 'desktop-site', 'granularity': 'monthly', 'timestamp': '2016060100', 'count': 4975092447}, {'project': 'en.wikipedia', 'access-site': 'desktop-site', 'granularity': 'monthly', 'timestamp': '2016070100', 'count': 5363966439}]}\n"
     ]
    }
   ],
   "source": [
    "print(monthly_pagecounts_desktop)"
   ]
  },
  {
   "cell_type": "markdown",
   "metadata": {},
   "source": [
    "We see that the entire dataset is stored as the value pair for a key called 'items'. Within this, the data is structured in the format {column:value, column:value, ...}, where each bracketed group is a row. We can use this information to convert each dataset to a DataFrame."
   ]
  },
  {
   "cell_type": "code",
   "execution_count": 8,
   "metadata": {},
   "outputs": [],
   "source": [
    "df_pagecounts_desktop = json_normalize(monthly_pagecounts_desktop['items'])\n",
    "df_pagecounts_mobile = json_normalize(monthly_pagecounts_mobile['items'])\n",
    "df_pagecounts_all = json_normalize(monthly_pagecounts_all['items'])\n",
    "\n",
    "df_pageviews_desktop = json_normalize(monthly_pageviews_desktop['items'])\n",
    "df_pageviews_mobileweb = json_normalize(monthly_pageviews_mobileweb['items'])\n",
    "df_pageviews_mobileapp = json_normalize(monthly_pageviews_mobileapp['items'])\n",
    "df_pageviews_all = json_normalize(monthly_pageviews_all['items'])"
   ]
  },
  {
   "cell_type": "code",
   "execution_count": 9,
   "metadata": {},
   "outputs": [
    {
     "data": {
      "text/html": [
       "<div>\n",
       "<style scoped>\n",
       "    .dataframe tbody tr th:only-of-type {\n",
       "        vertical-align: middle;\n",
       "    }\n",
       "\n",
       "    .dataframe tbody tr th {\n",
       "        vertical-align: top;\n",
       "    }\n",
       "\n",
       "    .dataframe thead th {\n",
       "        text-align: right;\n",
       "    }\n",
       "</style>\n",
       "<table border=\"1\" class=\"dataframe\">\n",
       "  <thead>\n",
       "    <tr style=\"text-align: right;\">\n",
       "      <th></th>\n",
       "      <th>project</th>\n",
       "      <th>access</th>\n",
       "      <th>agent</th>\n",
       "      <th>granularity</th>\n",
       "      <th>timestamp</th>\n",
       "      <th>views</th>\n",
       "    </tr>\n",
       "  </thead>\n",
       "  <tbody>\n",
       "    <tr>\n",
       "      <td>0</td>\n",
       "      <td>en.wikipedia</td>\n",
       "      <td>mobile-app</td>\n",
       "      <td>user</td>\n",
       "      <td>monthly</td>\n",
       "      <td>2015070100</td>\n",
       "      <td>109624146</td>\n",
       "    </tr>\n",
       "    <tr>\n",
       "      <td>1</td>\n",
       "      <td>en.wikipedia</td>\n",
       "      <td>mobile-app</td>\n",
       "      <td>user</td>\n",
       "      <td>monthly</td>\n",
       "      <td>2015080100</td>\n",
       "      <td>109669149</td>\n",
       "    </tr>\n",
       "    <tr>\n",
       "      <td>2</td>\n",
       "      <td>en.wikipedia</td>\n",
       "      <td>mobile-app</td>\n",
       "      <td>user</td>\n",
       "      <td>monthly</td>\n",
       "      <td>2015090100</td>\n",
       "      <td>96221684</td>\n",
       "    </tr>\n",
       "    <tr>\n",
       "      <td>3</td>\n",
       "      <td>en.wikipedia</td>\n",
       "      <td>mobile-app</td>\n",
       "      <td>user</td>\n",
       "      <td>monthly</td>\n",
       "      <td>2015100100</td>\n",
       "      <td>94523777</td>\n",
       "    </tr>\n",
       "    <tr>\n",
       "      <td>4</td>\n",
       "      <td>en.wikipedia</td>\n",
       "      <td>mobile-app</td>\n",
       "      <td>user</td>\n",
       "      <td>monthly</td>\n",
       "      <td>2015110100</td>\n",
       "      <td>94353925</td>\n",
       "    </tr>\n",
       "  </tbody>\n",
       "</table>\n",
       "</div>"
      ],
      "text/plain": [
       "        project      access agent granularity   timestamp      views\n",
       "0  en.wikipedia  mobile-app  user     monthly  2015070100  109624146\n",
       "1  en.wikipedia  mobile-app  user     monthly  2015080100  109669149\n",
       "2  en.wikipedia  mobile-app  user     monthly  2015090100   96221684\n",
       "3  en.wikipedia  mobile-app  user     monthly  2015100100   94523777\n",
       "4  en.wikipedia  mobile-app  user     monthly  2015110100   94353925"
      ]
     },
     "execution_count": 9,
     "metadata": {},
     "output_type": "execute_result"
    }
   ],
   "source": [
    "# Quickly check on the format of the dataframes\n",
    "df_pageviews_mobileapp.head()"
   ]
  },
  {
   "cell_type": "markdown",
   "metadata": {},
   "source": [
    "Next, we merge and sum up monthly pageview amounts for mobile-app and mobile-web access types to obtain total monthly mobile pageviews."
   ]
  },
  {
   "cell_type": "code",
   "execution_count": 10,
   "metadata": {},
   "outputs": [],
   "source": [
    "df_pageviews_mobileweb = df_pageviews_mobileweb.rename(columns={\"project\": \"project_web\", \"views\": \"web_views\", \"agent\": \"agent_web\", \"granularity\": \"granularity_web\", \"timestamp\": \"timestamp_web\"})\n",
    "df_pageviews_mobileapp = df_pageviews_mobileapp.rename(columns={\"views\": \"app_views\"})\n",
    "\n",
    "df_pageviews_mobileall = pd.concat([df_pageviews_mobileweb, df_pageviews_mobileapp], axis=1)\n",
    "df_pageviews_mobileall['views']= df_pageviews_mobileall['web_views'] + df_pageviews_mobileall['app_views']\n",
    "df_pageviews_mobileall = df_pageviews_mobileall[['project','agent', \"granularity\", \"timestamp\", \"views\"]]\n",
    "df_pageviews_mobileall['access']= \"mobile-all\""
   ]
  },
  {
   "cell_type": "markdown",
   "metadata": {},
   "source": [
    "Now we append together all pagecounts and pageviews dataframes into a single dataset, and reshape or \"pivot\" the data from long to wide."
   ]
  },
  {
   "cell_type": "code",
   "execution_count": 11,
   "metadata": {},
   "outputs": [],
   "source": [
    "df_all = df_pagecounts_desktop.append(df_pagecounts_mobile, ignore_index = True, sort = False).append(df_pagecounts_all, ignore_index = True, sort = False)\n",
    "df_all = df_all.rename(columns={\"access-site\": \"access\", \"count\": \"views\"}) # Note the differences in variable names between the pagecount and pageviews datasets.\n",
    "df_all = df_all.append(df_pageviews_desktop, sort = False).append(df_pageviews_mobileall, sort = False).append(df_pageviews_all, sort = False)"
   ]
  },
  {
   "cell_type": "code",
   "execution_count": 12,
   "metadata": {},
   "outputs": [],
   "source": [
    "# Reshape long to wide\n",
    "df_all = df_all[['timestamp', 'access', 'views']]\n",
    "df_all = df_all.pivot(index='timestamp', columns='access', values='views').reset_index()\n",
    "\n",
    "# Change missing values to zeros\n",
    "df_all = df_all.fillna(value = 0, axis = 1)"
   ]
  },
  {
   "cell_type": "markdown",
   "metadata": {},
   "source": [
    "Finally, we separate the 'timestamp' variable into year and month variables, format variable names, and save the data out to a CSV. "
   ]
  },
  {
   "cell_type": "code",
   "execution_count": 13,
   "metadata": {},
   "outputs": [
    {
     "data": {
      "text/html": [
       "<div>\n",
       "<style scoped>\n",
       "    .dataframe tbody tr th:only-of-type {\n",
       "        vertical-align: middle;\n",
       "    }\n",
       "\n",
       "    .dataframe tbody tr th {\n",
       "        vertical-align: top;\n",
       "    }\n",
       "\n",
       "    .dataframe thead th {\n",
       "        text-align: right;\n",
       "    }\n",
       "</style>\n",
       "<table border=\"1\" class=\"dataframe\">\n",
       "  <thead>\n",
       "    <tr style=\"text-align: right;\">\n",
       "      <th>access</th>\n",
       "      <th>year</th>\n",
       "      <th>month</th>\n",
       "      <th>pagecount_all_views</th>\n",
       "      <th>pagecount_desktop_views</th>\n",
       "      <th>pagecount_mobile_views</th>\n",
       "      <th>pageview_all_views</th>\n",
       "      <th>pageview_desktop_views</th>\n",
       "      <th>pageview_mobile_views</th>\n",
       "    </tr>\n",
       "  </thead>\n",
       "  <tbody>\n",
       "    <tr>\n",
       "      <td>0</td>\n",
       "      <td>2007</td>\n",
       "      <td>12</td>\n",
       "      <td>2.998332e+09</td>\n",
       "      <td>2.998332e+09</td>\n",
       "      <td>0.0</td>\n",
       "      <td>0.0</td>\n",
       "      <td>0.0</td>\n",
       "      <td>0.0</td>\n",
       "    </tr>\n",
       "    <tr>\n",
       "      <td>1</td>\n",
       "      <td>2008</td>\n",
       "      <td>01</td>\n",
       "      <td>4.930903e+09</td>\n",
       "      <td>4.930903e+09</td>\n",
       "      <td>0.0</td>\n",
       "      <td>0.0</td>\n",
       "      <td>0.0</td>\n",
       "      <td>0.0</td>\n",
       "    </tr>\n",
       "    <tr>\n",
       "      <td>2</td>\n",
       "      <td>2008</td>\n",
       "      <td>02</td>\n",
       "      <td>4.818394e+09</td>\n",
       "      <td>4.818394e+09</td>\n",
       "      <td>0.0</td>\n",
       "      <td>0.0</td>\n",
       "      <td>0.0</td>\n",
       "      <td>0.0</td>\n",
       "    </tr>\n",
       "    <tr>\n",
       "      <td>3</td>\n",
       "      <td>2008</td>\n",
       "      <td>03</td>\n",
       "      <td>4.955406e+09</td>\n",
       "      <td>4.955406e+09</td>\n",
       "      <td>0.0</td>\n",
       "      <td>0.0</td>\n",
       "      <td>0.0</td>\n",
       "      <td>0.0</td>\n",
       "    </tr>\n",
       "    <tr>\n",
       "      <td>4</td>\n",
       "      <td>2008</td>\n",
       "      <td>04</td>\n",
       "      <td>5.159162e+09</td>\n",
       "      <td>5.159162e+09</td>\n",
       "      <td>0.0</td>\n",
       "      <td>0.0</td>\n",
       "      <td>0.0</td>\n",
       "      <td>0.0</td>\n",
       "    </tr>\n",
       "  </tbody>\n",
       "</table>\n",
       "</div>"
      ],
      "text/plain": [
       "access  year month  pagecount_all_views  pagecount_desktop_views  \\\n",
       "0       2007    12         2.998332e+09             2.998332e+09   \n",
       "1       2008    01         4.930903e+09             4.930903e+09   \n",
       "2       2008    02         4.818394e+09             4.818394e+09   \n",
       "3       2008    03         4.955406e+09             4.955406e+09   \n",
       "4       2008    04         5.159162e+09             5.159162e+09   \n",
       "\n",
       "access  pagecount_mobile_views  pageview_all_views  pageview_desktop_views  \\\n",
       "0                          0.0                 0.0                     0.0   \n",
       "1                          0.0                 0.0                     0.0   \n",
       "2                          0.0                 0.0                     0.0   \n",
       "3                          0.0                 0.0                     0.0   \n",
       "4                          0.0                 0.0                     0.0   \n",
       "\n",
       "access  pageview_mobile_views  \n",
       "0                         0.0  \n",
       "1                         0.0  \n",
       "2                         0.0  \n",
       "3                         0.0  \n",
       "4                         0.0  "
      ]
     },
     "execution_count": 13,
     "metadata": {},
     "output_type": "execute_result"
    }
   ],
   "source": [
    "# Create year and month columns\n",
    "df_all['year'] = df_all['timestamp'].str.slice(stop=4)\n",
    "df_all['month'] = df_all['timestamp'].str.slice(start = 4, stop=6)\n",
    "\n",
    "# Format and save out dataset\n",
    "df_all = df_all.rename(columns={\"all-sites\": \"pagecount_all_views\", \"desktop\": \"pageview_desktop_views\", \n",
    "                                \"desktop-site\": \"pagecount_desktop_views\", \"all-access\": \"pageview_all_views\",\n",
    "                                \"mobile-all\":\"pageview_mobile_views\", \"mobile-site\":\"pagecount_mobile_views\"})\n",
    "df_all = df_all[['year','month', \"pagecount_all_views\", \"pagecount_desktop_views\", \"pagecount_mobile_views\", \n",
    "                 \"pageview_all_views\", \"pageview_desktop_views\", \"pageview_mobile_views\"]]\n",
    "\n",
    "df_all.to_csv('../data_clean/en-wikipedia_traffic_200712-201809.csv', index = False)\n",
    "df_all.head()"
   ]
  },
  {
   "cell_type": "markdown",
   "metadata": {},
   "source": [
    "## Step 3: Analysis"
   ]
  },
  {
   "cell_type": "markdown",
   "metadata": {},
   "source": [
    "In this section, we further format the data to prepare it for visualization, and create a line graph showing pagecount and pageview data across time by different access types."
   ]
  },
  {
   "cell_type": "code",
   "execution_count": 14,
   "metadata": {},
   "outputs": [],
   "source": [
    "df_all_plot = df_all.copy()\n",
    "\n",
    "# Loop over pagecount and pageview columns and convert values to billions\n",
    "columns = list(df_all_plot)[2:8] \n",
    "for i in columns: \n",
    "    df_all_plot[i] = df_all_plot[i] / 1000000000    \n",
    "    \n",
    "# Replace zeros with missing so they will not be plotted\n",
    "df_all_plot[df_all_plot==0] = np.nan \n",
    "\n",
    "# Set date variable for plotting\n",
    "df_all_plot['day'] = 1\n",
    "df_all_plot['date'] = pd.to_datetime(df_all_plot[['year','month','day']])"
   ]
  },
  {
   "cell_type": "code",
   "execution_count": 15,
   "metadata": {},
   "outputs": [
    {
     "data": {
      "image/png": "[encoded data removed]",
      "text/plain": [
       "<Figure size 720x432 with 1 Axes>"
      ]
     },
     "metadata": {
      "needs_background": "light"
     },
     "output_type": "display_data"
    }
   ],
   "source": [
    "# Plot the time series of pagecount and pageview data by access type\n",
    "plt.plot('date', 'pagecount_desktop_views', data=df_all_plot, color='green', linestyle='dashed', label='desktop pagecounts')\n",
    "plt.plot('date', 'pagecount_mobile_views', data=df_all_plot, color='blue', linestyle='dashed', label='mobile pagecounts')\n",
    "plt.plot('date', 'pagecount_all_views', data=df_all_plot, color='black', linestyle='dashed', label='all pagecounts')\n",
    "plt.plot('date', 'pageview_desktop_views', data=df_all_plot, color='green', label='desktop pageviews')\n",
    "plt.plot('date', 'pageview_mobile_views', data=df_all_plot, color='blue', label='mobile pageviews')\n",
    "plt.plot('date', 'pageview_all_views', data=df_all_plot, color='black', label='all pageviews')\n",
    "\n",
    "# Label axes, create legend, and format the figure\n",
    "plt.ylabel('Billions of views')\n",
    "plt.xlabel('Year')\n",
    "plt.title('Page Views on English Wikipedia')\n",
    "plt.legend(loc='upper left', ncol = 1, prop={'size': 8})\n",
    "plt.grid()\n",
    "plt.axhline(y=0, color='k', linewidth = 0)\n",
    "\n",
    "# Save out a JPEG of the figure\n",
    "fig1 = plt.gcf()\n",
    "fig1.set_size_inches(10, 6)\n",
    "fig1.savefig('../results/visualization.jpeg', dpi = 600, bbox_inches='tight')\n",
    "\n",
    "plt.show()"
   ]
  },
  {
   "cell_type": "markdown",
   "metadata": {},
   "source": [
    "From this figure, we can see the trends in pagecount and pageview data. First, we note an increasing trend in total pagecounts from 2008 to 2016. In contrast, the more recent total pageviews trend appears pretty flat from 2016 to 2019. We also note the magnitude of the total pageviews data is about 1 billion lower compared to the total pagecounts data in the overlapping period from July 2015 to July 2016; this is likely due to the inclusion of views from web crawlers and spiders in the pagecounts data, which is a limitation of the dataset and results in an overestimation of organic traffic to the website. We can also see a declining trend in desktop access over time, while mobile access has increased, as smartphone use and mobile web browsing have incresed over time. Whereas desktop access made up the majority of page access in the past, it has now been surpassed by mobile access."
   ]
  }
 ],
 "metadata": {
  "kernelspec": {
   "display_name": "Python 3",
   "language": "python",
   "name": "python3"
  },
  "language_info": {
   "codemirror_mode": {
    "name": "ipython",
    "version": 3
   },
   "file_extension": ".py",
   "mimetype": "text/x-python",
   "name": "python",
   "nbconvert_exporter": "python",
   "pygments_lexer": "ipython3",
   "version": "3.7.1"
  }
 },
 "nbformat": 4,
 "nbformat_minor": 2
}
